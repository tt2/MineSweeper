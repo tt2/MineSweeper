{
  "nbformat": 4,
  "nbformat_minor": 0,
  "metadata": {
    "colab": {
      "name": "3D-Photo-Inpainting.ipynb のコピー",
      "provenance": [],
      "collapsed_sections": [],
      "include_colab_link": true
    },
    "kernelspec": {
      "name": "python3",
      "display_name": "Python 3"
    },
    "accelerator": "GPU"
  },
  "cells": [
    {
      "cell_type": "markdown",
      "metadata": {
        "id": "view-in-github",
        "colab_type": "text"
      },
      "source": [
        "<a href=\"https://colab.research.google.com/github/tt2/MineSweeper/blob/master/3D_Photo_Inpainting_ipynb_%E3%81%AE%E3%82%B3%E3%83%94%E3%83%BC.ipynb\" target=\"_parent\"><img src=\"https://colab.research.google.com/assets/colab-badge.svg\" alt=\"Open In Colab\"/></a>"
      ]
    },
    {
      "cell_type": "markdown",
      "metadata": {
        "id": "IY-s3ZpHBeAU"
      },
      "source": [
        "**[CVPR 2020] 3D Photography using Context-aware Layered Depth Inpainting**\n",
        "\n",
        "[project website](https://shihmengli.github.io/3D-Photo-Inpainting/)"
      ]
    },
    {
      "cell_type": "markdown",
      "metadata": {
        "id": "LPQ0EWxgvMIc"
      },
      "source": [
        "- **Prepare environment**\n"
      ]
    },
    {
      "cell_type": "code",
      "metadata": {
        "id": "5o-EIMeaghU0",
        "outputId": "c5fe1a6d-c486-4d35-f908-ea6a07aff702",
        "colab": {
          "base_uri": "https://localhost:8080/",
          "height": 1000
        }
      },
      "source": [
        "!pip3 install torch==1.4.0+cu100 torchvision==0.5.0+cu100 -f https://download.pytorch.org/whl/torch_stable.html\n",
        "!pip3 install opencv-python==4.2.0.32\n",
        "!pip3 install vispy==0.6.4\n",
        "!pip3 install moviepy==1.0.2\n",
        "!pip3 install transforms3d==0.3.1\n",
        "!pip3 install networkx==2.3\n",
        "!sudo apt install sed"
      ],
      "execution_count": null,
      "outputs": [
        {
          "output_type": "stream",
          "text": [
            "Looking in links: https://download.pytorch.org/whl/torch_stable.html\n",
            "Collecting torch==1.4.0+cu100\n",
            "\u001b[?25l  Downloading https://download.pytorch.org/whl/cu100/torch-1.4.0%2Bcu100-cp36-cp36m-linux_x86_64.whl (723.9MB)\n",
            "\u001b[K     |████████████████████████████████| 723.9MB 22kB/s \n",
            "\u001b[33mWARNING: Retrying (Retry(total=4, connect=None, read=None, redirect=None, status=None)) after connection broken by 'ProtocolError('Connection aborted.', ConnectionResetError(104, 'Connection reset by peer'))': /simple/torchvision/\u001b[0m\n",
            "\u001b[?25hCollecting torchvision==0.5.0+cu100\n",
            "\u001b[?25l  Downloading https://download.pytorch.org/whl/cu100/torchvision-0.5.0%2Bcu100-cp36-cp36m-linux_x86_64.whl (4.0MB)\n",
            "\u001b[K     |████████████████████████████████| 4.1MB 16.8MB/s \n",
            "\u001b[?25hRequirement already satisfied: six in /usr/local/lib/python3.6/dist-packages (from torchvision==0.5.0+cu100) (1.15.0)\n",
            "Requirement already satisfied: numpy in /usr/local/lib/python3.6/dist-packages (from torchvision==0.5.0+cu100) (1.18.5)\n",
            "Requirement already satisfied: pillow>=4.1.1 in /usr/local/lib/python3.6/dist-packages (from torchvision==0.5.0+cu100) (7.0.0)\n",
            "Installing collected packages: torch, torchvision\n",
            "  Found existing installation: torch 1.6.0+cu101\n",
            "    Uninstalling torch-1.6.0+cu101:\n",
            "      Successfully uninstalled torch-1.6.0+cu101\n",
            "  Found existing installation: torchvision 0.7.0+cu101\n",
            "    Uninstalling torchvision-0.7.0+cu101:\n",
            "      Successfully uninstalled torchvision-0.7.0+cu101\n",
            "Successfully installed torch-1.4.0+cu100 torchvision-0.5.0+cu100\n",
            "Collecting opencv-python==4.2.0.32\n",
            "\u001b[?25l  Downloading https://files.pythonhosted.org/packages/68/c5/09a1b82f940805c2cee30c3c42786651edcfd0710a0283eb09c6bc959340/opencv_python-4.2.0.32-cp36-cp36m-manylinux1_x86_64.whl (28.2MB)\n",
            "\u001b[K     |████████████████████████████████| 28.2MB 108kB/s \n",
            "\u001b[?25hRequirement already satisfied: numpy>=1.11.3 in /usr/local/lib/python3.6/dist-packages (from opencv-python==4.2.0.32) (1.18.5)\n",
            "\u001b[31mERROR: albumentations 0.1.12 has requirement imgaug<0.2.7,>=0.2.5, but you'll have imgaug 0.2.9 which is incompatible.\u001b[0m\n",
            "Installing collected packages: opencv-python\n",
            "  Found existing installation: opencv-python 4.1.2.30\n",
            "    Uninstalling opencv-python-4.1.2.30:\n",
            "      Successfully uninstalled opencv-python-4.1.2.30\n",
            "Successfully installed opencv-python-4.2.0.32\n",
            "Collecting vispy==0.6.4\n",
            "\u001b[?25l  Downloading https://files.pythonhosted.org/packages/cf/29/899797a9af4446d3ddf594f49b0fbd43076eafa1552e24690cfd99b0e2ff/vispy-0.6.4-cp36-cp36m-manylinux2010_x86_64.whl (2.3MB)\n",
            "\u001b[K     |████████████████████████████████| 2.3MB 2.7MB/s \n",
            "\u001b[?25hRequirement already satisfied: numpy in /usr/local/lib/python3.6/dist-packages (from vispy==0.6.4) (1.18.5)\n",
            "Collecting freetype-py\n",
            "\u001b[?25l  Downloading https://files.pythonhosted.org/packages/40/b5/56751e13f8b4a42f52c1b85ecce1446f83245190d820b42748eb8574ae43/freetype_py-2.2.0-py3-none-manylinux1_x86_64.whl (890kB)\n",
            "\u001b[K     |████████████████████████████████| 890kB 19.6MB/s \n",
            "\u001b[?25hInstalling collected packages: freetype-py, vispy\n",
            "Successfully installed freetype-py-2.2.0 vispy-0.6.4\n",
            "Collecting moviepy==1.0.2\n",
            "\u001b[?25l  Downloading https://files.pythonhosted.org/packages/71/64/e7f0876716d5c35612bf8e9e49299d0f491285f10f36cbb481556ab0062b/moviepy-1.0.2.tar.gz (7.8MB)\n",
            "\u001b[K     |████████████████████████████████| 7.9MB 2.4MB/s \n",
            "\u001b[?25hRequirement already satisfied: decorator<5.0,>=4.0.2 in /usr/local/lib/python3.6/dist-packages (from moviepy==1.0.2) (4.4.2)\n",
            "Requirement already satisfied: tqdm<5.0,>=4.11.2 in /usr/local/lib/python3.6/dist-packages (from moviepy==1.0.2) (4.41.1)\n",
            "Requirement already satisfied: requests<3.0,>=2.8.1 in /usr/local/lib/python3.6/dist-packages (from moviepy==1.0.2) (2.23.0)\n",
            "Collecting proglog<=1.0.0\n",
            "  Downloading https://files.pythonhosted.org/packages/fe/ab/4cb19b578e1364c0b2d6efd6521a8b4b4e5c4ae6528041d31a2a951dd991/proglog-0.1.9.tar.gz\n",
            "Requirement already satisfied: numpy>=1.17.3 in /usr/local/lib/python3.6/dist-packages (from moviepy==1.0.2) (1.18.5)\n",
            "Collecting imageio<3.0,>=2.5\n",
            "\u001b[?25l  Downloading https://files.pythonhosted.org/packages/6e/57/5d899fae74c1752f52869b613a8210a2480e1a69688e65df6cb26117d45d/imageio-2.9.0-py3-none-any.whl (3.3MB)\n",
            "\u001b[K     |████████████████████████████████| 3.3MB 36.5MB/s \n",
            "\u001b[?25hCollecting imageio_ffmpeg>=0.2.0\n",
            "\u001b[?25l  Downloading https://files.pythonhosted.org/packages/df/c8/04c6b4a001b8ae7326fb83d6665af1ee58d6cc1acb421f8ea40d2678fe3c/imageio_ffmpeg-0.4.2-py3-none-manylinux2010_x86_64.whl (26.9MB)\n",
            "\u001b[K     |████████████████████████████████| 26.9MB 109kB/s \n",
            "\u001b[?25hRequirement already satisfied: chardet<4,>=3.0.2 in /usr/local/lib/python3.6/dist-packages (from requests<3.0,>=2.8.1->moviepy==1.0.2) (3.0.4)\n",
            "Requirement already satisfied: urllib3!=1.25.0,!=1.25.1,<1.26,>=1.21.1 in /usr/local/lib/python3.6/dist-packages (from requests<3.0,>=2.8.1->moviepy==1.0.2) (1.24.3)\n",
            "Requirement already satisfied: idna<3,>=2.5 in /usr/local/lib/python3.6/dist-packages (from requests<3.0,>=2.8.1->moviepy==1.0.2) (2.10)\n",
            "Requirement already satisfied: certifi>=2017.4.17 in /usr/local/lib/python3.6/dist-packages (from requests<3.0,>=2.8.1->moviepy==1.0.2) (2020.6.20)\n",
            "Requirement already satisfied: pillow in /usr/local/lib/python3.6/dist-packages (from imageio<3.0,>=2.5->moviepy==1.0.2) (7.0.0)\n",
            "Building wheels for collected packages: moviepy, proglog\n",
            "  Building wheel for moviepy (setup.py) ... \u001b[?25l\u001b[?25hdone\n",
            "  Created wheel for moviepy: filename=moviepy-1.0.2-cp36-none-any.whl size=110731 sha256=594c884bf7e87801760035c3e1d5dfd3225ca426ed5e89a8f1271f7e70a7d672\n",
            "  Stored in directory: /root/.cache/pip/wheels/20/49/a9/770a9a22e7a020d796ab3784d2dc4839e38450a1ac87e6106f\n",
            "  Building wheel for proglog (setup.py) ... \u001b[?25l\u001b[?25hdone\n",
            "  Created wheel for proglog: filename=proglog-0.1.9-cp36-none-any.whl size=6149 sha256=f9a38dc5ed35493767ff54b2d7eea741b5d8d43ea001227efb7107700ddfeec1\n",
            "  Stored in directory: /root/.cache/pip/wheels/65/56/60/1d0306a8d90b188af393c1812ddb502a8821b70917f82dcc00\n",
            "Successfully built moviepy proglog\n",
            "\u001b[31mERROR: albumentations 0.1.12 has requirement imgaug<0.2.7,>=0.2.5, but you'll have imgaug 0.2.9 which is incompatible.\u001b[0m\n",
            "Installing collected packages: proglog, imageio, imageio-ffmpeg, moviepy\n",
            "  Found existing installation: imageio 2.4.1\n",
            "    Uninstalling imageio-2.4.1:\n",
            "      Successfully uninstalled imageio-2.4.1\n",
            "  Found existing installation: moviepy 0.2.3.5\n",
            "    Uninstalling moviepy-0.2.3.5:\n",
            "      Successfully uninstalled moviepy-0.2.3.5\n",
            "Successfully installed imageio-2.9.0 imageio-ffmpeg-0.4.2 moviepy-1.0.2 proglog-0.1.9\n",
            "Collecting transforms3d==0.3.1\n",
            "\u001b[?25l  Downloading https://files.pythonhosted.org/packages/b5/f7/e85809168a548a854d7c1331560c27b4f5381698d29c12e57759192b2bc1/transforms3d-0.3.1.tar.gz (62kB)\n",
            "\u001b[K     |████████████████████████████████| 71kB 2.1MB/s \n",
            "\u001b[?25hBuilding wheels for collected packages: transforms3d\n",
            "  Building wheel for transforms3d (setup.py) ... \u001b[?25l\u001b[?25hdone\n",
            "  Created wheel for transforms3d: filename=transforms3d-0.3.1-cp36-none-any.whl size=59374 sha256=6f8239db9842303a3b84515e3fa771b2f56c487f8f83027648514575cd094e04\n",
            "  Stored in directory: /root/.cache/pip/wheels/3d/3c/84/28d36677f3c760c048bd02b5a547ea0c4027770cc9cdb9af1e\n",
            "Successfully built transforms3d\n",
            "Installing collected packages: transforms3d\n",
            "Successfully installed transforms3d-0.3.1\n",
            "Collecting networkx==2.3\n",
            "\u001b[?25l  Downloading https://files.pythonhosted.org/packages/85/08/f20aef11d4c343b557e5de6b9548761811eb16e438cee3d32b1c66c8566b/networkx-2.3.zip (1.7MB)\n",
            "\u001b[K     |████████████████████████████████| 1.8MB 2.7MB/s \n",
            "\u001b[?25hRequirement already satisfied: decorator>=4.3.0 in /usr/local/lib/python3.6/dist-packages (from networkx==2.3) (4.4.2)\n",
            "Building wheels for collected packages: networkx\n",
            "  Building wheel for networkx (setup.py) ... \u001b[?25l\u001b[?25hdone\n",
            "  Created wheel for networkx: filename=networkx-2.3-py2.py3-none-any.whl size=1556409 sha256=9f44728bf00d3437df4e5fc801f5c3116cbbe71b1aa862bf095caf5b81f6270f\n",
            "  Stored in directory: /root/.cache/pip/wheels/de/63/64/3699be2a9d0ccdb37c7f16329acf3863fd76eda58c39c737af\n",
            "Successfully built networkx\n",
            "\u001b[31mERROR: albumentations 0.1.12 has requirement imgaug<0.2.7,>=0.2.5, but you'll have imgaug 0.2.9 which is incompatible.\u001b[0m\n",
            "Installing collected packages: networkx\n",
            "  Found existing installation: networkx 2.5\n",
            "    Uninstalling networkx-2.5:\n",
            "      Successfully uninstalled networkx-2.5\n",
            "Successfully installed networkx-2.3\n",
            "Reading package lists... Done\n",
            "Building dependency tree       \n",
            "Reading state information... Done\n",
            "sed is already the newest version (4.4-2).\n",
            "0 upgraded, 0 newly installed, 0 to remove and 21 not upgraded.\n"
          ],
          "name": "stdout"
        }
      ]
    },
    {
      "cell_type": "markdown",
      "metadata": {
        "id": "c-g7AeLMvY0R"
      },
      "source": [
        "- **Download script and pretrained model**\n"
      ]
    },
    {
      "cell_type": "code",
      "metadata": {
        "id": "cOFIBkWrBlNM",
        "outputId": "a3504b63-f2df-4d9e-de51-cad70876fd3f",
        "colab": {
          "base_uri": "https://localhost:8080/",
          "height": 921
        }
      },
      "source": [
        "%cd /content/\n",
        "!git clone https://github.com/vt-vl-lab/3d-photo-inpainting.git\n",
        "%cd 3d-photo-inpainting\n",
        "!sh download.sh"
      ],
      "execution_count": null,
      "outputs": [
        {
          "output_type": "stream",
          "text": [
            "/content\n",
            "Cloning into '3d-photo-inpainting'...\n",
            "remote: Enumerating objects: 350, done.\u001b[K\n",
            "remote: Total 350 (delta 0), reused 0 (delta 0), pack-reused 350\u001b[K\n",
            "Receiving objects: 100% (350/350), 130.13 MiB | 11.13 MiB/s, done.\n",
            "Resolving deltas: 100% (192/192), done.\n",
            "/content/3d-photo-inpainting\n",
            "downloading from filebox ...\n",
            "--2020-09-29 16:49:17--  https://filebox.ece.vt.edu/~jbhuang/project/3DPhoto/model/color-model.pth\n",
            "Resolving filebox.ece.vt.edu (filebox.ece.vt.edu)... 128.173.88.43\n",
            "Connecting to filebox.ece.vt.edu (filebox.ece.vt.edu)|128.173.88.43|:443... connected.\n",
            "HTTP request sent, awaiting response... 200 OK\n",
            "Length: 206331633 (197M)\n",
            "Saving to: ‘color-model.pth’\n",
            "\n",
            "color-model.pth     100%[===================>] 196.77M  15.3MB/s    in 18s     \n",
            "\n",
            "2020-09-29 16:49:36 (11.0 MB/s) - ‘color-model.pth’ saved [206331633/206331633]\n",
            "\n",
            "--2020-09-29 16:49:36--  https://filebox.ece.vt.edu/~jbhuang/project/3DPhoto/model/depth-model.pth\n",
            "Resolving filebox.ece.vt.edu (filebox.ece.vt.edu)... 128.173.88.43\n",
            "Connecting to filebox.ece.vt.edu (filebox.ece.vt.edu)|128.173.88.43|:443... connected.\n",
            "HTTP request sent, awaiting response... 200 OK\n",
            "Length: 206272258 (197M)\n",
            "Saving to: ‘depth-model.pth’\n",
            "\n",
            "depth-model.pth     100%[===================>] 196.72M  14.7MB/s    in 18s     \n",
            "\n",
            "2020-09-29 16:49:55 (11.2 MB/s) - ‘depth-model.pth’ saved [206272258/206272258]\n",
            "\n",
            "--2020-09-29 16:49:55--  https://filebox.ece.vt.edu/~jbhuang/project/3DPhoto/model/edge-model.pth\n",
            "Resolving filebox.ece.vt.edu (filebox.ece.vt.edu)... 128.173.88.43\n",
            "Connecting to filebox.ece.vt.edu (filebox.ece.vt.edu)|128.173.88.43|:443... connected.\n",
            "HTTP request sent, awaiting response... 200 OK\n",
            "Length: 45974122 (44M)\n",
            "Saving to: ‘edge-model.pth’\n",
            "\n",
            "edge-model.pth      100%[===================>]  43.84M  11.0MB/s    in 7.8s    \n",
            "\n",
            "2020-09-29 16:50:04 (5.61 MB/s) - ‘edge-model.pth’ saved [45974122/45974122]\n",
            "\n",
            "--2020-09-29 16:50:04--  https://filebox.ece.vt.edu/~jbhuang/project/3DPhoto/model/model.pt\n",
            "Resolving filebox.ece.vt.edu (filebox.ece.vt.edu)... 128.173.88.43\n",
            "Connecting to filebox.ece.vt.edu (filebox.ece.vt.edu)|128.173.88.43|:443... connected.\n",
            "HTTP request sent, awaiting response... 200 OK\n",
            "Length: 149751722 (143M)\n",
            "Saving to: ‘model.pt’\n",
            "\n",
            "model.pt            100%[===================>] 142.81M  15.0MB/s    in 14s     \n",
            "\n",
            "2020-09-29 16:50:19 (10.1 MB/s) - ‘model.pt’ saved [149751722/149751722]\n",
            "\n"
          ],
          "name": "stdout"
        }
      ]
    },
    {
      "cell_type": "markdown",
      "metadata": {
        "id": "D_Fg_aMeDnmd"
      },
      "source": [
        "- **Switch off off-screen rendering**"
      ]
    },
    {
      "cell_type": "code",
      "metadata": {
        "id": "S9TmdOBRDXcV"
      },
      "source": [
        "!sed -i 's/offscreen_rendering: True/offscreen_rendering: False/g' argument.yml"
      ],
      "execution_count": null,
      "outputs": []
    },
    {
      "cell_type": "markdown",
      "metadata": {
        "id": "cCN8L7GiDpZA"
      },
      "source": [
        "- **Please upload `.jpg` files to `/content/3d-photo-inpainting-master/image/`**\n",
        "  - You can run this step multiple times to upload multiple `.jpg` files."
      ]
    },
    {
      "cell_type": "code",
      "metadata": {
        "id": "n-Kl6fo1oows",
        "outputId": "ea429234-db2a-4687-9a25-6c44aca379f5",
        "colab": {
          "resources": {
            "http://localhost:8080/nbextensions/google.colab/files.js": {
              "data": "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",
              "ok": true,
              "headers": [
                [
                  "content-type",
                  "application/javascript"
                ]
              ],
              "status": 200,
              "status_text": ""
            }
          },
          "base_uri": "https://localhost:8080/",
          "height": 129
        }
      },
      "source": [
        "%cd image\n",
        "from google.colab import files\n",
        "uploaded = files.upload()\n",
        "for fn in uploaded.keys():\n",
        "  print('User uploaded file \"{name}\" with length {length} bytes'.format(\n",
        "      name=fn, length=len(uploaded[fn])))\n",
        "%cd .."
      ],
      "execution_count": 16,
      "outputs": [
        {
          "output_type": "stream",
          "text": [
            "/content/3d-photo-inpainting/image\n"
          ],
          "name": "stdout"
        },
        {
          "output_type": "display_data",
          "data": {
            "text/html": [
              "\n",
              "     <input type=\"file\" id=\"files-2bcdc464-df69-4548-a105-dc633bc31f65\" name=\"files[]\" multiple disabled\n",
              "        style=\"border:none\" />\n",
              "     <output id=\"result-2bcdc464-df69-4548-a105-dc633bc31f65\">\n",
              "      Upload widget is only available when the cell has been executed in the\n",
              "      current browser session. Please rerun this cell to enable.\n",
              "      </output>\n",
              "      <script src=\"/nbextensions/google.colab/files.js\"></script> "
            ],
            "text/plain": [
              "<IPython.core.display.HTML object>"
            ]
          },
          "metadata": {
            "tags": []
          }
        },
        {
          "output_type": "stream",
          "text": [
            "Saving aaa_1-124.jpg to aaa_1-124.jpg\n",
            "User uploaded file \"aaa_1-124.jpg\" with length 691874 bytes\n",
            "/content/3d-photo-inpainting\n"
          ],
          "name": "stdout"
        }
      ]
    },
    {
      "cell_type": "markdown",
      "metadata": {
        "id": "wyLFopwVDzUg"
      },
      "source": [
        "- **Execute the 3D Photo Inpainting**\n",
        "  - Note: The 3D photo generation process usually takes about 2-3 minutes or more depending on the available computing resources."
      ]
    },
    {
      "cell_type": "code",
      "metadata": {
        "id": "i5-MWEjfBjYx",
        "outputId": "548a186e-5987-4319-fe26-fa637f5c3088",
        "colab": {
          "base_uri": "https://localhost:8080/",
          "height": 1000
        }
      },
      "source": [
        "!python main.py --config argument.yml"
      ],
      "execution_count": 22,
      "outputs": [
        {
          "output_type": "stream",
          "text": [
            "running on device 0\n",
            "\r  0% 0/1 [00:00<?, ?it/s]Current Source ==>  aaa_1-124\n",
            "Running depth extraction at 1601410724.8754146\n",
            "initialize\n",
            "device: cpu\n",
            "start processing\n",
            "  processing image/aaa_1-124.jpg (1/1)\n",
            "torch.Size([1, 3, 320, 384])\n",
            "finished\n",
            "Start Running 3D_Photo ...\n",
            "Loading edge model at 1601410750.0930045\n",
            "Loading depth model at 1601410759.7174788\n",
            "Loading rgb model at 1601410766.0880005\n",
            "Writing depth ply (and basically doing everything) at 1601410772.4160535\n",
            "Writing mesh file mesh/aaa_1-124.ply ...\n",
            "Making video at 1601410996.8764045\n",
            "fov: 53.13010235415598\n",
            "Moviepy - Building video video/aaa_1-124_dolly-zoom-in.mp4.\n",
            "Moviepy - Writing video video/aaa_1-124_dolly-zoom-in.mp4\n",
            "\n",
            "  0% 0/1 [05:31<?, ?it/s]\n",
            "t:   0% 0/240 [00:00<?, ?it/s, now=None]\u001b[A\n",
            "t:   1% 2/240 [00:00<00:42,  5.57it/s, now=None]\u001b[A\n",
            "t:   1% 3/240 [00:00<00:38,  6.15it/s, now=None]\u001b[A\n",
            "t:   5% 11/240 [00:00<00:26,  8.50it/s, now=None]\u001b[A\n",
            "t:   8% 19/240 [00:00<00:19, 11.57it/s, now=None]\u001b[A\n",
            "t:  11% 27/240 [00:00<00:13, 15.51it/s, now=None]\u001b[A\n",
            "t:  15% 35/240 [00:00<00:10, 20.31it/s, now=None]\u001b[A\n",
            "t:  18% 43/240 [00:01<00:07, 25.91it/s, now=None]\u001b[A\n",
            "t:  21% 50/240 [00:01<00:09, 19.46it/s, now=None]\u001b[A\n",
            "t:  23% 55/240 [00:01<00:09, 20.55it/s, now=None]\u001b[A\n",
            "t:  25% 60/240 [00:02<00:09, 18.47it/s, now=None]\u001b[A\n",
            "t:  27% 64/240 [00:02<00:09, 17.88it/s, now=None]\u001b[A\n",
            "t:  28% 67/240 [00:02<00:09, 18.15it/s, now=None]\u001b[A\n",
            "t:  29% 70/240 [00:02<00:09, 18.41it/s, now=None]\u001b[A\n",
            "t:  30% 73/240 [00:02<00:08, 19.38it/s, now=None]\u001b[A\n",
            "t:  32% 76/240 [00:03<00:09, 17.20it/s, now=None]\u001b[A\n",
            "t:  33% 79/240 [00:03<00:09, 17.75it/s, now=None]\u001b[A\n",
            "t:  34% 81/240 [00:03<00:10, 14.95it/s, now=None]\u001b[A\n",
            "t:  35% 84/240 [00:03<00:09, 16.51it/s, now=None]\u001b[A\n",
            "t:  36% 87/240 [00:03<00:09, 16.81it/s, now=None]\u001b[A\n",
            "t:  37% 89/240 [00:03<00:08, 16.96it/s, now=None]\u001b[A\n",
            "t:  38% 91/240 [00:03<00:08, 17.68it/s, now=None]\u001b[A\n",
            "t:  39% 93/240 [00:04<00:08, 17.57it/s, now=None]\u001b[A\n",
            "t:  40% 95/240 [00:04<00:08, 18.10it/s, now=None]\u001b[A\n",
            "t:  40% 97/240 [00:04<00:07, 17.95it/s, now=None]\u001b[A\n",
            "t:  41% 99/240 [00:04<00:08, 16.57it/s, now=None]\u001b[A\n",
            "t:  42% 101/240 [00:04<00:08, 16.12it/s, now=None]\u001b[A\n",
            "t:  43% 103/240 [00:04<00:08, 16.61it/s, now=None]\u001b[A\n",
            "t:  44% 106/240 [00:04<00:06, 19.15it/s, now=None]\u001b[A\n",
            "t:  45% 109/240 [00:04<00:07, 17.08it/s, now=None]\u001b[A\n",
            "t:  47% 112/240 [00:05<00:07, 17.53it/s, now=None]\u001b[A\n",
            "t:  48% 115/240 [00:05<00:06, 17.89it/s, now=None]\u001b[A\n",
            "t:  49% 117/240 [00:05<00:07, 15.46it/s, now=None]\u001b[A\n",
            "t:  50% 120/240 [00:05<00:07, 16.64it/s, now=None]\u001b[A\n",
            "t:  51% 123/240 [00:05<00:06, 16.96it/s, now=None]\u001b[A\n",
            "t:  52% 125/240 [00:05<00:06, 17.56it/s, now=None]\u001b[A\n",
            "t:  53% 127/240 [00:05<00:06, 17.56it/s, now=None]\u001b[A\n",
            "t:  54% 130/240 [00:06<00:05, 19.62it/s, now=None]\u001b[A\n",
            "t:  55% 133/240 [00:06<00:06, 15.93it/s, now=None]\u001b[A\n",
            "t:  57% 136/240 [00:06<00:06, 16.98it/s, now=None]\u001b[A\n",
            "t:  57% 138/240 [00:06<00:05, 17.51it/s, now=None]\u001b[A\n",
            "t:  58% 140/240 [00:06<00:05, 18.16it/s, now=None]\u001b[A\n",
            "t:  59% 142/240 [00:06<00:05, 18.39it/s, now=None]\u001b[A\n",
            "t:  60% 144/240 [00:06<00:05, 18.58it/s, now=None]\u001b[A\n",
            "t:  61% 147/240 [00:07<00:05, 17.76it/s, now=None]\u001b[A\n",
            "t:  62% 150/240 [00:07<00:05, 17.99it/s, now=None]\u001b[A\n",
            "t:  64% 153/240 [00:07<00:04, 17.55it/s, now=None]\u001b[A\n",
            "t:  65% 156/240 [00:07<00:04, 17.71it/s, now=None]\u001b[A\n",
            "t:  66% 158/240 [00:07<00:04, 18.01it/s, now=None]\u001b[A\n",
            "t:  67% 160/240 [00:07<00:04, 17.97it/s, now=None]\u001b[A\n",
            "t:  68% 163/240 [00:07<00:04, 18.20it/s, now=None]\u001b[A\n",
            "t:  69% 166/240 [00:08<00:04, 18.29it/s, now=None]\u001b[A\n",
            "t:  70% 168/240 [00:08<00:04, 17.54it/s, now=None]\u001b[A\n",
            "t:  71% 171/240 [00:08<00:03, 18.34it/s, now=None]\u001b[A\n",
            "t:  72% 173/240 [00:08<00:03, 17.27it/s, now=None]\u001b[A\n",
            "t:  73% 175/240 [00:08<00:03, 16.79it/s, now=None]\u001b[A\n",
            "t:  74% 178/240 [00:08<00:03, 19.15it/s, now=None]\u001b[A\n",
            "t:  75% 181/240 [00:09<00:03, 17.22it/s, now=None]\u001b[A\n",
            "t:  76% 183/240 [00:09<00:03, 17.00it/s, now=None]\u001b[A\n",
            "t:  78% 186/240 [00:09<00:03, 17.93it/s, now=None]\u001b[A\n",
            "t:  78% 188/240 [00:09<00:03, 17.17it/s, now=None]\u001b[A\n",
            "t:  80% 191/240 [00:09<00:02, 16.73it/s, now=None]\u001b[A\n",
            "t:  80% 193/240 [00:09<00:02, 17.50it/s, now=None]\u001b[A\n",
            "t:  81% 195/240 [00:09<00:02, 17.45it/s, now=None]\u001b[A\n",
            "t:  82% 197/240 [00:09<00:02, 16.92it/s, now=None]\u001b[A\n",
            "t:  83% 199/240 [00:10<00:02, 17.13it/s, now=None]\u001b[A\n",
            "t:  84% 202/240 [00:10<00:02, 17.24it/s, now=None]\u001b[A\n",
            "t:  85% 205/240 [00:10<00:01, 19.43it/s, now=None]\u001b[A\n",
            "t:  87% 208/240 [00:10<00:01, 17.26it/s, now=None]\u001b[A\n",
            "t:  88% 211/240 [00:10<00:01, 17.24it/s, now=None]\u001b[A\n",
            "t:  89% 213/240 [00:10<00:01, 16.53it/s, now=None]\u001b[A\n",
            "t:  90% 215/240 [00:10<00:01, 16.89it/s, now=None]\u001b[A\n",
            "t:  91% 218/240 [00:11<00:01, 17.38it/s, now=None]\u001b[A\n",
            "t:  92% 220/240 [00:11<00:01, 16.73it/s, now=None]\u001b[A\n",
            "t:  93% 223/240 [00:11<00:00, 17.51it/s, now=None]\u001b[A\n",
            "t:  94% 225/240 [00:11<00:00, 17.90it/s, now=None]\u001b[A\n",
            "t:  95% 227/240 [00:11<00:00, 18.13it/s, now=None]\u001b[A\n",
            "t:  95% 229/240 [00:11<00:00, 17.37it/s, now=None]\u001b[A\n",
            "t:  96% 231/240 [00:11<00:00, 16.41it/s, now=None]\u001b[A\n",
            "t:  97% 233/240 [00:12<00:00, 15.72it/s, now=None]\u001b[A\n",
            "t:  98% 236/240 [00:12<00:00, 16.11it/s, now=None]\u001b[A\n",
            "t:  99% 238/240 [00:12<00:00, 16.37it/s, now=None]\u001b[A\n",
            "t: 100% 240/240 [00:12<00:00, 16.87it/s, now=None]\u001b[A\n",
            "Moviepy - Done !\n",
            "Moviepy - video ready video/aaa_1-124_dolly-zoom-in.mp4\n",
            "Moviepy - Building video video/aaa_1-124_zoom-in.mp4.\n",
            "Moviepy - Writing video video/aaa_1-124_zoom-in.mp4\n",
            "\n",
            "  0% 0/1 [06:41<?, ?it/s]\n",
            "t:   0% 0/240 [00:00<?, ?it/s, now=None]\u001b[A\n",
            "t:   3% 7/240 [00:00<00:04, 58.00it/s, now=None]\u001b[A\n",
            "t:   5% 12/240 [00:00<00:04, 54.13it/s, now=None]\u001b[A\n",
            "t:   7% 17/240 [00:00<00:04, 51.64it/s, now=None]\u001b[A\n",
            "t:  10% 23/240 [00:00<00:04, 52.55it/s, now=None]\u001b[A\n",
            "t:  11% 27/240 [00:00<00:04, 44.87it/s, now=None]\u001b[A\n",
            "t:  14% 34/240 [00:00<00:04, 49.14it/s, now=None]\u001b[A\n",
            "t:  18% 43/240 [00:00<00:03, 56.18it/s, now=None]\u001b[A\n",
            "t:  20% 49/240 [00:01<00:06, 28.03it/s, now=None]\u001b[A\n",
            "t:  22% 54/240 [00:01<00:08, 23.19it/s, now=None]\u001b[A\n",
            "t:  24% 58/240 [00:01<00:09, 19.88it/s, now=None]\u001b[A\n",
            "t:  25% 61/240 [00:01<00:09, 19.03it/s, now=None]\u001b[A\n",
            "t:  27% 64/240 [00:02<00:09, 18.91it/s, now=None]\u001b[A\n",
            "t:  28% 67/240 [00:02<00:09, 18.31it/s, now=None]\u001b[A\n",
            "t:  29% 70/240 [00:02<00:08, 19.30it/s, now=None]\u001b[A\n",
            "t:  30% 73/240 [00:02<00:10, 16.15it/s, now=None]\u001b[A\n",
            "t:  32% 76/240 [00:02<00:09, 17.92it/s, now=None]\u001b[A\n",
            "t:  33% 79/240 [00:03<00:09, 17.48it/s, now=None]\u001b[A\n",
            "t:  34% 81/240 [00:03<00:09, 17.23it/s, now=None]\u001b[A\n",
            "t:  35% 83/240 [00:03<00:09, 17.26it/s, now=None]\u001b[A\n",
            "t:  36% 86/240 [00:03<00:07, 19.61it/s, now=None]\u001b[A\n",
            "t:  37% 89/240 [00:03<00:08, 17.99it/s, now=None]\u001b[A\n",
            "t:  38% 91/240 [00:03<00:09, 16.35it/s, now=None]\u001b[A\n",
            "t:  39% 94/240 [00:03<00:08, 16.52it/s, now=None]\u001b[A\n",
            "t:  40% 97/240 [00:04<00:08, 17.56it/s, now=None]\u001b[A\n",
            "t:  41% 99/240 [00:04<00:08, 16.84it/s, now=None]\u001b[A\n",
            "t:  42% 101/240 [00:04<00:08, 17.37it/s, now=None]\u001b[A\n",
            "t:  43% 103/240 [00:04<00:07, 17.69it/s, now=None]\u001b[A\n",
            "t:  44% 105/240 [00:04<00:08, 15.50it/s, now=None]\u001b[A\n",
            "t:  45% 108/240 [00:04<00:08, 16.46it/s, now=None]\u001b[A\n",
            "t:  46% 111/240 [00:04<00:07, 16.92it/s, now=None]\u001b[A\n",
            "t:  47% 113/240 [00:05<00:07, 16.13it/s, now=None]\u001b[A\n",
            "t:  48% 115/240 [00:05<00:07, 17.05it/s, now=None]\u001b[A\n",
            "t:  49% 117/240 [00:05<00:07, 15.72it/s, now=None]\u001b[A\n",
            "t:  50% 120/240 [00:05<00:06, 17.26it/s, now=None]\u001b[A\n",
            "t:  51% 122/240 [00:05<00:06, 17.94it/s, now=None]\u001b[A\n",
            "t:  52% 124/240 [00:05<00:07, 15.96it/s, now=None]\u001b[A\n",
            "t:  53% 127/240 [00:05<00:06, 16.89it/s, now=None]\u001b[A\n",
            "t:  54% 129/240 [00:05<00:06, 16.21it/s, now=None]\u001b[A\n",
            "t:  55% 131/240 [00:06<00:06, 16.18it/s, now=None]\u001b[A\n",
            "t:  55% 133/240 [00:06<00:06, 15.78it/s, now=None]\u001b[A\n",
            "t:  57% 136/240 [00:06<00:06, 16.97it/s, now=None]\u001b[A\n",
            "t:  57% 138/240 [00:06<00:05, 17.35it/s, now=None]\u001b[A\n",
            "t:  58% 140/240 [00:06<00:06, 14.43it/s, now=None]\u001b[A\n",
            "t:  60% 143/240 [00:06<00:06, 15.49it/s, now=None]\u001b[A\n",
            "t:  60% 145/240 [00:06<00:06, 15.37it/s, now=None]\u001b[A\n",
            "t:  62% 148/240 [00:07<00:05, 16.43it/s, now=None]\u001b[A\n",
            "t:  63% 151/240 [00:07<00:05, 16.83it/s, now=None]\u001b[A\n",
            "t:  64% 153/240 [00:07<00:05, 16.00it/s, now=None]\u001b[A\n",
            "t:  65% 156/240 [00:07<00:04, 17.04it/s, now=None]\u001b[A\n",
            "t:  66% 159/240 [00:07<00:04, 18.39it/s, now=None]\u001b[A\n",
            "t:  67% 161/240 [00:07<00:04, 16.17it/s, now=None]\u001b[A\n",
            "t:  68% 164/240 [00:07<00:04, 17.05it/s, now=None]\u001b[A\n",
            "t:  70% 167/240 [00:08<00:04, 17.23it/s, now=None]\u001b[A\n",
            "t:  71% 170/240 [00:08<00:04, 17.40it/s, now=None]\u001b[A\n",
            "t:  72% 172/240 [00:08<00:03, 17.60it/s, now=None]\u001b[A\n",
            "t:  73% 175/240 [00:08<00:03, 18.75it/s, now=None]\u001b[A\n",
            "t:  74% 177/240 [00:08<00:04, 14.95it/s, now=None]\u001b[A\n",
            "t:  75% 180/240 [00:08<00:03, 17.07it/s, now=None]\u001b[A\n",
            "t:  76% 182/240 [00:09<00:03, 17.46it/s, now=None]\u001b[A\n",
            "t:  77% 184/240 [00:09<00:03, 17.40it/s, now=None]\u001b[A\n",
            "t:  78% 186/240 [00:09<00:03, 17.32it/s, now=None]\u001b[A\n",
            "t:  78% 188/240 [00:09<00:03, 16.64it/s, now=None]\u001b[A\n",
            "t:  80% 191/240 [00:09<00:02, 17.56it/s, now=None]\u001b[A\n",
            "t:  80% 193/240 [00:09<00:02, 16.26it/s, now=None]\u001b[A\n",
            "t:  82% 196/240 [00:09<00:02, 16.86it/s, now=None]\u001b[A\n",
            "t:  82% 198/240 [00:09<00:02, 17.17it/s, now=None]\u001b[A\n",
            "t:  84% 201/240 [00:10<00:02, 16.38it/s, now=None]\u001b[A\n",
            "t:  85% 204/240 [00:10<00:01, 18.52it/s, now=None]\u001b[A\n",
            "t:  86% 206/240 [00:10<00:01, 18.01it/s, now=None]\u001b[A\n",
            "t:  87% 208/240 [00:10<00:01, 18.09it/s, now=None]\u001b[A\n",
            "t:  88% 210/240 [00:10<00:01, 18.58it/s, now=None]\u001b[A\n",
            "t:  88% 212/240 [00:10<00:01, 16.58it/s, now=None]\u001b[A\n",
            "t:  90% 215/240 [00:10<00:01, 17.50it/s, now=None]\u001b[A\n",
            "t:  90% 217/240 [00:11<00:01, 15.96it/s, now=None]\u001b[A\n",
            "t:  92% 220/240 [00:11<00:01, 17.77it/s, now=None]\u001b[A\n",
            "t:  92% 222/240 [00:11<00:01, 17.04it/s, now=None]\u001b[A\n",
            "t:  93% 224/240 [00:11<00:00, 16.85it/s, now=None]\u001b[A\n",
            "t:  94% 226/240 [00:11<00:00, 16.62it/s, now=None]\u001b[A\n",
            "t:  95% 229/240 [00:11<00:00, 16.02it/s, now=None]\u001b[A\n",
            "t:  97% 232/240 [00:11<00:00, 17.19it/s, now=None]\u001b[A\n",
            "t:  98% 235/240 [00:12<00:00, 18.07it/s, now=None]\u001b[A\n",
            "t:  99% 237/240 [00:12<00:00, 17.71it/s, now=None]\u001b[A\n",
            "t: 100% 239/240 [00:12<00:00, 17.77it/s, now=None]\u001b[A\n",
            "Moviepy - Done !\n",
            "Moviepy - video ready video/aaa_1-124_zoom-in.mp4\n",
            "  0% 0/1 [06:55<?, ?it/s]^C\n"
          ],
          "name": "stdout"
        }
      ]
    },
    {
      "cell_type": "code",
      "metadata": {
        "id": "Sg8K98ul1gzZ",
        "outputId": "399a368f-e150-44bb-8e4b-f107ef6b6373",
        "colab": {
          "base_uri": "https://localhost:8080/",
          "height": 409
        }
      },
      "source": [
        "from google.colab import drive\n",
        "drive.mount('/content/drive')"
      ],
      "execution_count": 15,
      "outputs": [
        {
          "output_type": "stream",
          "text": [
            "Go to this URL in a browser: https://accounts.google.com/o/oauth2/auth?client_id=947318989803-6bn6qk8qdgf4n4g3pfee6491hc0brc4i.apps.googleusercontent.com&redirect_uri=urn%3aietf%3awg%3aoauth%3a2.0%3aoob&scope=email%20https%3a%2f%2fwww.googleapis.com%2fauth%2fdocs.test%20https%3a%2f%2fwww.googleapis.com%2fauth%2fdrive%20https%3a%2f%2fwww.googleapis.com%2fauth%2fdrive.photos.readonly%20https%3a%2f%2fwww.googleapis.com%2fauth%2fpeopleapi.readonly&response_type=code\n",
            "\n",
            "Enter your authorization code:\n",
            "464939Nolh39\n"
          ],
          "name": "stdout"
        },
        {
          "output_type": "error",
          "ename": "ValueError",
          "evalue": "ignored",
          "traceback": [
            "\u001b[0;31m---------------------------------------------------------------------------\u001b[0m",
            "\u001b[0;31mValueError\u001b[0m                                Traceback (most recent call last)",
            "\u001b[0;32m<ipython-input-15-d5df0069828e>\u001b[0m in \u001b[0;36m<module>\u001b[0;34m()\u001b[0m\n\u001b[1;32m      1\u001b[0m \u001b[0;32mfrom\u001b[0m \u001b[0mgoogle\u001b[0m\u001b[0;34m.\u001b[0m\u001b[0mcolab\u001b[0m \u001b[0;32mimport\u001b[0m \u001b[0mdrive\u001b[0m\u001b[0;34m\u001b[0m\u001b[0;34m\u001b[0m\u001b[0m\n\u001b[0;32m----> 2\u001b[0;31m \u001b[0mdrive\u001b[0m\u001b[0;34m.\u001b[0m\u001b[0mmount\u001b[0m\u001b[0;34m(\u001b[0m\u001b[0;34m'/content/drive'\u001b[0m\u001b[0;34m)\u001b[0m\u001b[0;34m\u001b[0m\u001b[0;34m\u001b[0m\u001b[0m\n\u001b[0m",
            "\u001b[0;32m/usr/local/lib/python3.6/dist-packages/google/colab/drive.py\u001b[0m in \u001b[0;36mmount\u001b[0;34m(mountpoint, force_remount, timeout_ms, use_metadata_server)\u001b[0m\n\u001b[1;32m    252\u001b[0m       \u001b[0mwrote_to_fifo\u001b[0m \u001b[0;34m=\u001b[0m \u001b[0;32mTrue\u001b[0m\u001b[0;34m\u001b[0m\u001b[0;34m\u001b[0m\u001b[0m\n\u001b[1;32m    253\u001b[0m     \u001b[0;32melif\u001b[0m \u001b[0mcase\u001b[0m \u001b[0;34m==\u001b[0m \u001b[0;36m5\u001b[0m\u001b[0;34m:\u001b[0m\u001b[0;34m\u001b[0m\u001b[0;34m\u001b[0m\u001b[0m\n\u001b[0;32m--> 254\u001b[0;31m       \u001b[0;32mraise\u001b[0m \u001b[0mValueError\u001b[0m\u001b[0;34m(\u001b[0m\u001b[0;34m'mount failed: invalid oauth code'\u001b[0m\u001b[0;34m)\u001b[0m\u001b[0;34m\u001b[0m\u001b[0;34m\u001b[0m\u001b[0m\n\u001b[0m\u001b[1;32m    255\u001b[0m   \u001b[0;32mif\u001b[0m \u001b[0;32mnot\u001b[0m \u001b[0mwrote_to_fifo\u001b[0m\u001b[0;34m:\u001b[0m\u001b[0;34m\u001b[0m\u001b[0;34m\u001b[0m\u001b[0m\n\u001b[1;32m    256\u001b[0m     \u001b[0;32mwith\u001b[0m \u001b[0mopen\u001b[0m\u001b[0;34m(\u001b[0m\u001b[0mfifo\u001b[0m\u001b[0;34m,\u001b[0m \u001b[0;34m'w'\u001b[0m\u001b[0;34m)\u001b[0m \u001b[0;32mas\u001b[0m \u001b[0mfifo_file\u001b[0m\u001b[0;34m:\u001b[0m\u001b[0;34m\u001b[0m\u001b[0;34m\u001b[0m\u001b[0m\n",
            "\u001b[0;31mValueError\u001b[0m: mount failed: invalid oauth code"
          ]
        }
      ]
    },
    {
      "cell_type": "markdown",
      "metadata": {
        "id": "wPvkMT0msIJB"
      },
      "source": [
        "- **The results are stored in the following directories**\n",
        "  - Corresponding depth map estimated by [MiDaS](https://github.com/intel-isl/MiDaS.git) \n",
        "      - E.g. ```/content/3d-photo-inpainting/depth/moon.npy```\n",
        "  - Inpainted 3D mesh\n",
        "      - E.g. ```/content/3d-photo-inpainting/mesh/moon.ply```\n",
        "  - Rendered videos with zoom-in motion\n",
        "      - E.g. ```/content/3d-photo-inpainting/video/moon_zoom-in.mp4```\n",
        "  - Rendered videos with swing motion\n",
        "      - E.g. ```/content/3d-photo-inpainting/video/moon_swing.mp4```\n",
        "  - Rendered videos with circle motion\n",
        "      - E.g. ```/content/3d-photo-inpainting/video/moon_circle.mp4```\n",
        "  \n",
        "    ![](https://drive.google.com/uc?id=1xBiZAeGfhsoAsG08N5UM8-f993p0G5HF)"
      ]
    }
  ]
}